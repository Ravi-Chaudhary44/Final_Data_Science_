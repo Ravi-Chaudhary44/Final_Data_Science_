{
 "cells": [
  {
   "cell_type": "markdown",
   "id": "3c9e88ae-acd0-4188-9705-767ae735244c",
   "metadata": {},
   "source": [
    "# Exercise 2: Title\n",
    "## My Final Data Science Project\n"
   ]
  },
  {
   "cell_type": "markdown",
   "id": "ed870c02-224e-4336-9840-daf63e9147a2",
   "metadata": {},
   "source": [
    "# Exercise 3: Introduction\n",
    "This notebook summarizes key elements I’ve learned in the course.\n"
   ]
  },
  {
   "cell_type": "markdown",
   "id": "af684cf8-4a3c-48af-9f12-b9515c630532",
   "metadata": {},
   "source": [
    "# Exercise 4: Data Science Languages\n",
    "1. Python  \n",
    "2. R  \n",
    "3. SQL  \n",
    "4. Julia  \n",
    "5. Scala\n"
   ]
  },
  {
   "cell_type": "markdown",
   "id": "0d3b810e-29db-49bc-94d8-6f46a76ef960",
   "metadata": {},
   "source": [
    "# Exercise 5: Data Science Libraries\n",
    "1. Pandas  \n",
    "2. NumPy  \n",
    "3. Matplotlib  \n",
    "4. Seaborn  \n",
    "5. Scikit-learn\n"
   ]
  },
  {
   "cell_type": "markdown",
   "id": "fa96a256-c3f5-476b-a790-27d680474094",
   "metadata": {},
   "source": [
    "# Exercise 6: Data Science Tools\n",
    "\n",
    "| Tool Name     | Category         |\n",
    "|---------------|------------------|\n",
    "| Jupyter       | Notebook         |\n",
    "| RStudio       | IDE              |\n",
    "| TensorFlow    | Deep Learning    |\n"
   ]
  },
  {
   "cell_type": "markdown",
   "id": "00d971f3-1da2-4e47-ba00-7edd15583705",
   "metadata": {},
   "source": [
    "# Exercise 7: Arithmetic Examples\n",
    "We will now perform simple arithmetic operations below using Python code.\n"
   ]
  },
  {
   "cell_type": "code",
   "execution_count": 11,
   "id": "f7afd5d6-6bfe-44e8-9a99-d96e95b1ad5d",
   "metadata": {},
   "outputs": [
    {
     "data": {
      "text/plain": [
       "23"
      ]
     },
     "execution_count": 11,
     "metadata": {},
     "output_type": "execute_result"
    }
   ],
   "source": [
    "# Exercise 8: Multiply and Add Integers\n",
    "(4 * 5) + 3\n"
   ]
  },
  {
   "cell_type": "code",
   "execution_count": 12,
   "id": "cdb48546-4c39-402f-9d0e-d5b983afdab6",
   "metadata": {},
   "outputs": [
    {
     "data": {
      "text/plain": [
       "2.5"
      ]
     },
     "execution_count": 12,
     "metadata": {},
     "output_type": "execute_result"
    }
   ],
   "source": [
    "# Exercise 9: Convert Minutes to Hours\n",
    "minutes = 150\n",
    "hours = minutes / 60\n",
    "hours\n"
   ]
  },
  {
   "cell_type": "markdown",
   "id": "fe822f2c-aba9-42d9-a868-5ea32c45dd24",
   "metadata": {},
   "source": [
    "# Exercise 10: Objectives\n",
    "- Understand common languages used in data science  \n",
    "- Learn popular data science tools and libraries  \n",
    "- Practice basic coding in a Jupyter notebook  \n",
    "- Share the notebook using GitHub  \n"
   ]
  },
  {
   "cell_type": "markdown",
   "id": "c13fef99-8dbf-4863-9d34-360c841d48b7",
   "metadata": {},
   "source": [
    "# Exercise 11: Author\n",
    "**Author:** Ravi Chaudhary\n"
   ]
  }
 ],
 "metadata": {
  "kernelspec": {
   "display_name": "Python 3 (ipykernel)",
   "language": "python",
   "name": "python3"
  },
  "language_info": {
   "codemirror_mode": {
    "name": "ipython",
    "version": 3
   },
   "file_extension": ".py",
   "mimetype": "text/x-python",
   "name": "python",
   "nbconvert_exporter": "python",
   "pygments_lexer": "ipython3",
   "version": "3.12.8"
  }
 },
 "nbformat": 4,
 "nbformat_minor": 5
}
